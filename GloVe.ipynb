{
 "cells": [
  {
   "cell_type": "markdown",
   "id": "353ae422",
   "metadata": {},
   "source": [
    "# <span style=\"color:red\">@@@@@@@@@@@@@Ayad@@@@@@@@@@@@@</span>"
   ]
  },
  {
   "cell_type": "code",
   "execution_count": 1,
   "id": "7c63fe1e",
   "metadata": {},
   "outputs": [],
   "source": [
    "# from __future__ import print_function, division\n",
    "\n",
    "# from builtins import range\n",
    "\n"
   ]
  },
  {
   "cell_type": "markdown",
   "id": "76ba23a4",
   "metadata": {},
   "source": [
    "### Make the distance function"
   ]
  },
  {
   "cell_type": "code",
   "execution_count": 2,
   "id": "dd3c4aca",
   "metadata": {},
   "outputs": [],
   "source": [
    "import numpy as np"
   ]
  },
  {
   "cell_type": "code",
   "execution_count": 3,
   "id": "414b5e33",
   "metadata": {},
   "outputs": [],
   "source": [
    "def dist1(a, b):\n",
    "    return np.linalg.norm(a - b)\n",
    "\n",
    "def dist2(a, b):\n",
    "    return 1 - a.dot(b) / (np.linalg.norm(a) * np.linalg.norm(b))\n",
    "\n",
    "dist, metric = dist2, 'cosine'\n",
    "# dist, metric = dist1, 'euclidean'"
   ]
  },
  {
   "cell_type": "markdown",
   "id": "7eaa8ee6",
   "metadata": {},
   "source": [
    "### Function to execute subtraction"
   ]
  },
  {
   "cell_type": "code",
   "execution_count": 20,
   "id": "921f4b7a",
   "metadata": {},
   "outputs": [],
   "source": [
    "def find_analogies(words, glove):\n",
    "    for w in words:\n",
    "        if w not in glove:\n",
    "            print(\"%s not in dictionary\" % w)\n",
    "            return\n",
    "        \n",
    "    w1, w2, w3, = words[0], words[1], words[2]\n",
    "    \n",
    "    king = glove[w1]\n",
    "    man = glove[w2]\n",
    "    woman = glove[w3]\n",
    "    v0 = king - man + woman\n",
    "\n",
    "    min_dist = float('inf')\n",
    "    best_word = ''\n",
    "    for word, v1 in glove.items():\n",
    "        if word not in words:\n",
    "            d = dist(v0, v1)\n",
    "            if d < min_dist:\n",
    "                min_dist = d\n",
    "                best_word = word\n",
    "    print(w1, \"-\", w2, \"=\", best_word, \"-\", w3)"
   ]
  },
  {
   "cell_type": "markdown",
   "id": "2d152279",
   "metadata": {},
   "source": [
    "### Same function as above, but faster"
   ]
  },
  {
   "cell_type": "code",
   "execution_count": 6,
   "id": "bf853ef3",
   "metadata": {},
   "outputs": [],
   "source": [
    "from sklearn.metrics.pairwise import pairwise_distances"
   ]
  },
  {
   "cell_type": "code",
   "execution_count": 7,
   "id": "b546eb4a",
   "metadata": {},
   "outputs": [],
   "source": [
    "def find_analogies(w1, w2, w3):\n",
    "    for w in (w1, w2, w3):\n",
    "        if w not in word2vec:\n",
    "            print(\"%s not in dictionary\" % w)\n",
    "            return\n",
    "\n",
    "    king = word2vec[w1]\n",
    "    man = word2vec[w2]\n",
    "    woman = word2vec[w3]\n",
    "    v0 = king - man + woman\n",
    "\n",
    "    distances = pairwise_distances(v0.reshape(1, D),\n",
    "                                   embedding, metric=metric).reshape(V)\n",
    "    idxs = distances.argsort()[:4]\n",
    "    for idx in idxs:\n",
    "        word = idx2word[idx]\n",
    "        if word not in (w1, w2, w3): \n",
    "            best_word = word\n",
    "            break\n",
    "\n",
    "    print(w1, \"-\", w2, \"=\", best_word, \"-\", w3)"
   ]
  },
  {
   "cell_type": "markdown",
   "id": "48650b70",
   "metadata": {},
   "source": [
    "### Make a function to select the closest words"
   ]
  },
  {
   "cell_type": "code",
   "execution_count": 53,
   "id": "353e4900",
   "metadata": {},
   "outputs": [],
   "source": [
    "def nearest_neighbors(items, glove, words, values, n=5):\n",
    "    for w in items:    \n",
    "        if w not in glove:\n",
    "            print(\"%s not in dictionary:\" % w)\n",
    "            return\n",
    "\n",
    "        no_of_words, no_of_values = values.shape\n",
    "\n",
    "        v = glove[w]\n",
    "        distances = pairwise_distances(v.reshape(1, no_of_values),\n",
    "                                       values, metric=metric).reshape(no_of_words)\n",
    "\n",
    "        idxs = distances.argsort()[1:n+1]\n",
    "        print(\"neighbors of: %s\" % w)\n",
    "        for idx in idxs:\n",
    "            print(\"\\t%s\" % words[idx])\n",
    "        print('\\n', '*'*20, '\\n')"
   ]
  },
  {
   "cell_type": "markdown",
   "id": "d7c8c534",
   "metadata": {},
   "source": [
    "### reading of statements"
   ]
  },
  {
   "cell_type": "code",
   "execution_count": 9,
   "id": "1257480b",
   "metadata": {},
   "outputs": [
    {
     "name": "stdout",
     "output_type": "stream",
     "text": [
      "Loading word vectors...\n",
      "Found 400000 word vectors.\n"
     ]
    }
   ],
   "source": [
    "print('Loading word vectors...')\n",
    "word2vec = {}\n",
    "embedding = []\n",
    "idx2word = []\n",
    "\n",
    "with open(r'D:\\Projects\\NLP\\Glove\\glove.6B.50d.txt', encoding='utf-8') as f:\n",
    "    \n",
    "    for line in f:\n",
    "        values = line.split()\n",
    "        word = values[0]\n",
    "        vec = np.asarray(values[1:], dtype='float32')\n",
    "        word2vec[word] = vec\n",
    "        embedding.append(vec)\n",
    "        idx2word.append(word)\n",
    "        \n",
    "print('Found %s word vectors.' % len(word2vec))"
   ]
  },
  {
   "cell_type": "code",
   "execution_count": 10,
   "id": "0cb45831",
   "metadata": {},
   "outputs": [
    {
     "data": {
      "text/plain": [
       "(400000, 50)"
      ]
     },
     "execution_count": 10,
     "metadata": {},
     "output_type": "execute_result"
    }
   ],
   "source": [
    "embedding = np.array(embedding)\n",
    "embedding.shape"
   ]
  },
  {
   "cell_type": "markdown",
   "id": "6b0ef1b6",
   "metadata": {},
   "source": [
    "### Subtraction operations for finding similarities between the words"
   ]
  },
  {
   "cell_type": "code",
   "execution_count": 22,
   "id": "ed2d482c",
   "metadata": {},
   "outputs": [
    {
     "name": "stdout",
     "output_type": "stream",
     "text": [
      "king - man = queen - woman\n",
      "france - paris = britain - london\n",
      "france - paris = italy - rome\n",
      "paris - france = rome - italy\n",
      "france - french = england - english\n",
      "japan - japanese = china - chinese\n",
      "japan - japanese = italy - italian\n",
      "japan - japanese = australia - australian\n",
      "december - november = july - june\n",
      "miami - florida = houston - texas\n",
      "einstein - scientist = matisse - painter\n",
      "china - rice = chinese - bread\n",
      "man - woman = he - she\n",
      "man - woman = uncle - aunt\n",
      "man - woman = brother - sister\n",
      "man - woman = friend - wife\n",
      "man - woman = actor - actress\n",
      "man - woman = father - mother\n",
      "heir - heiress = queen - princess\n",
      "nephew - niece = uncle - aunt\n",
      "france - paris = japan - tokyo\n",
      "france - paris = china - beijing\n",
      "february - january = october - november\n",
      "france - paris = italy - rome\n",
      "paris - france = rome - italy\n",
      "cairo - egypt = damascus - syria\n"
     ]
    }
   ],
   "source": [
    "find_analogies(['king', 'man', 'woman'], word2vec)\n",
    "find_analogies(['france', 'paris', 'london'], word2vec)\n",
    "find_analogies(['france', 'paris', 'rome'], word2vec)\n",
    "find_analogies(['paris', 'france', 'italy'], word2vec)\n",
    "find_analogies(['france', 'french', 'english'], word2vec)\n",
    "find_analogies(['japan', 'japanese', 'chinese'], word2vec)\n",
    "find_analogies(['japan', 'japanese', 'italian'], word2vec)\n",
    "find_analogies(['japan', 'japanese', 'australian'], word2vec)\n",
    "find_analogies(['december', 'november', 'june'], word2vec)\n",
    "find_analogies(['miami', 'florida', 'texas'], word2vec)\n",
    "find_analogies(['einstein', 'scientist', 'painter'], word2vec)\n",
    "find_analogies(['china', 'rice', 'bread'], word2vec)\n",
    "find_analogies(['man', 'woman', 'she'], word2vec)\n",
    "find_analogies(['man', 'woman', 'aunt'], word2vec)\n",
    "find_analogies(['man', 'woman', 'sister'], word2vec)\n",
    "find_analogies(['man', 'woman', 'wife'], word2vec)\n",
    "find_analogies(['man', 'woman', 'actress'], word2vec)\n",
    "find_analogies(['man', 'woman', 'mother'], word2vec)\n",
    "find_analogies(['heir', 'heiress', 'princess'], word2vec)\n",
    "find_analogies(['nephew', 'niece', 'aunt'], word2vec)\n",
    "find_analogies(['france', 'paris', 'tokyo'], word2vec)\n",
    "find_analogies(['france', 'paris', 'beijing'], word2vec)\n",
    "find_analogies(['february', 'january', 'november'], word2vec)\n",
    "find_analogies(['france', 'paris', 'rome'], word2vec)\n",
    "find_analogies(['paris', 'france', 'italy'], word2vec)\n",
    "find_analogies(['cairo','egypt','syria'], word2vec)"
   ]
  },
  {
   "cell_type": "markdown",
   "id": "aa4fa572",
   "metadata": {},
   "source": [
    "### closest words"
   ]
  },
  {
   "cell_type": "code",
   "execution_count": 54,
   "id": "748fdf2d",
   "metadata": {},
   "outputs": [],
   "source": [
    "words_for_testing = ['king', 'france', 'japan', 'einstein', 'woman', 'nephew',\n",
    "                     'february', 'rome', 'bolt', 'bus', 'hello', 'go']"
   ]
  },
  {
   "cell_type": "code",
   "execution_count": 56,
   "id": "af4ff08e",
   "metadata": {},
   "outputs": [
    {
     "name": "stdout",
     "output_type": "stream",
     "text": [
      "neighbors of: king\n",
      "\tprince\n",
      "\tqueen\n",
      "\tii\n",
      "\temperor\n",
      "\tson\n",
      "\n",
      " ******************** \n",
      "\n",
      "neighbors of: france\n",
      "\tfrench\n",
      "\tbelgium\n",
      "\tparis\n",
      "\tspain\n",
      "\tnetherlands\n",
      "\n",
      " ******************** \n",
      "\n",
      "neighbors of: japan\n",
      "\tjapanese\n",
      "\tchina\n",
      "\tkorea\n",
      "\ttokyo\n",
      "\ttaiwan\n",
      "\n",
      " ******************** \n",
      "\n",
      "neighbors of: einstein\n",
      "\trelativity\n",
      "\tbohr\n",
      "\tphysics\n",
      "\theisenberg\n",
      "\tfreud\n",
      "\n",
      " ******************** \n",
      "\n",
      "neighbors of: woman\n",
      "\tgirl\n",
      "\tman\n",
      "\tmother\n",
      "\ther\n",
      "\tboy\n",
      "\n",
      " ******************** \n",
      "\n",
      "neighbors of: nephew\n",
      "\tcousin\n",
      "\tbrother\n",
      "\tgrandson\n",
      "\tson\n",
      "\tuncle\n",
      "\n",
      " ******************** \n",
      "\n",
      "neighbors of: february\n",
      "\toctober\n",
      "\tdecember\n",
      "\tjanuary\n",
      "\taugust\n",
      "\tseptember\n",
      "\n",
      " ******************** \n",
      "\n",
      "neighbors of: rome\n",
      "\tnaples\n",
      "\tvenice\n",
      "\titaly\n",
      "\tturin\n",
      "\tpope\n",
      "\n",
      " ******************** \n",
      "\n",
      "neighbors of: bolt\n",
      "\tusain\n",
      "\tjavelin\n",
      "\tkitajima\n",
      "\thammer\n",
      "\trod\n",
      "\n",
      " ******************** \n",
      "\n",
      "neighbors of: bus\n",
      "\ttrain\n",
      "\tbuses\n",
      "\tpassenger\n",
      "\tcommuter\n",
      "\ttrains\n",
      "\n",
      " ******************** \n",
      "\n",
      "neighbors of: hello\n",
      "\tgoodbye\n",
      "\they\n",
      "\t!\n",
      "\tkiss\n",
      "\twow\n",
      "\n",
      " ******************** \n",
      "\n",
      "neighbors of: go\n",
      "\tgoing\n",
      "\tcome\n",
      "\tget\n",
      "\t'll\n",
      "\ttake\n",
      "\n",
      " ******************** \n",
      "\n"
     ]
    }
   ],
   "source": [
    "nearest_neighbors(words_for_testing, word2vec, idx2word, embedding)"
   ]
  },
  {
   "cell_type": "markdown",
   "id": "965096b3",
   "metadata": {},
   "source": [
    "# <span style=\"color:red\">@@@@@@@@@@@@@Ayad@@@@@@@@@@@@@</span>"
   ]
  }
 ],
 "metadata": {
  "kernelspec": {
   "display_name": "Python 3 (ipykernel)",
   "language": "python",
   "name": "python3"
  },
  "language_info": {
   "codemirror_mode": {
    "name": "ipython",
    "version": 3
   },
   "file_extension": ".py",
   "mimetype": "text/x-python",
   "name": "python",
   "nbconvert_exporter": "python",
   "pygments_lexer": "ipython3",
   "version": "3.9.7"
  }
 },
 "nbformat": 4,
 "nbformat_minor": 5
}
